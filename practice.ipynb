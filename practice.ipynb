{
 "cells": [
  {
   "cell_type": "code",
   "execution_count": 14,
   "metadata": {},
   "outputs": [
    {
     "name": "stdout",
     "output_type": "stream",
     "text": [
      "False\n",
      "True\n",
      "True\n",
      "<class 'bool'>\n"
     ]
    }
   ],
   "source": [
    "print(2>6)\n",
    "print(2<6)\n",
    "print(2!=6)\n",
    "print(type(2==6))"
   ]
  },
  {
   "cell_type": "code",
   "execution_count": 30,
   "metadata": {},
   "outputs": [
    {
     "name": "stdout",
     "output_type": "stream",
     "text": [
      "Normal temperature.\n",
      "<class 'function'>\n",
      "<class 'str'>\n"
     ]
    }
   ],
   "source": [
    "def evaluate_temp(temp):\n",
    "    # Set an initial message\n",
    "    \n",
    "    # Update value of message only if temperature greater than 38\n",
    "    if temp > 38:\n",
    "        message = \"Fever!\"\n",
    "    elif temp > 36: \n",
    "        message = \"Normal temperature.\"\n",
    "    else:\n",
    "        message = \"low temperature!!\"\n",
    "    return message\n",
    "\n",
    "print(evaluate_temp(36.1))\n",
    "print(type(evaluate_temp))\n",
    "print(type(evaluate_temp(39)))"
   ]
  },
  {
   "cell_type": "code",
   "execution_count": 33,
   "metadata": {},
   "outputs": [
    {
     "name": "stdout",
     "output_type": "stream",
     "text": [
      "1000.0 4500.0 6000.0\n"
     ]
    }
   ],
   "source": [
    "def get_taxes(earnings):\n",
    "    if earnings < 12000:\n",
    "        tax_owed = .10 * earnings\n",
    "    else:\n",
    "        tax_owed = .30 * earnings\n",
    "    return tax_owed\n",
    "ana = get_taxes(10000)\n",
    "bob = get_taxes(15000)\n",
    "charlie = get_taxes(20000)\n",
    "print(ana, bob, charlie)\n"
   ]
  },
  {
   "cell_type": "code",
   "execution_count": 36,
   "metadata": {},
   "outputs": [
    {
     "data": {
      "text/plain": [
       "'C'"
      ]
     },
     "execution_count": 36,
     "metadata": {},
     "output_type": "execute_result"
    }
   ],
   "source": [
    "def get_grade(score):\n",
    "    if score < 60:\n",
    "        grade = \"F\"\n",
    "    elif score < 70:\n",
    "        grade = \"D\"\n",
    "    elif score < 80:\n",
    "        grade = \"C\"\n",
    "    elif score < 90:\n",
    "        grade = \"B\"\n",
    "    elif score < 100:\n",
    "        grade = \"A\"\n",
    "    return grade\n",
    "\n",
    "get_grade(75)"
   ]
  },
  {
   "cell_type": "code",
   "execution_count": 54,
   "metadata": {},
   "outputs": [
    {
     "name": "stdout",
     "output_type": "stream",
     "text": [
      "<class 'list'>\n",
      "pink primrose\n",
      "10\n",
      "['bird of paradise', 'monkshood', 'globe thistle']\n",
      "9\n",
      "['moon orchid', 'bird of paradise', 'monkshood']\n",
      "10\n",
      "['bird of paradise', 'monkshood', 'globe thistle']\n"
     ]
    }
   ],
   "source": [
    "flowers = ['pink primrose', 'hard-leaved pocket orchid', 'canterbury bells', 'sweet pea', 'english marigold', 'tiger lily', 'moon orchid', 'bird of paradise', 'monkshood', 'globe thistle']\n",
    "\n",
    "print(type(flowers))\n",
    "print(flowers[0])\n",
    "print(len(flowers))\n",
    "print(flowers[-3:])\n",
    "flowers.remove(\"globe thistle\")\n",
    "print(len(flowers))\n",
    "print(flowers[-3:])\n",
    "flowers.append(\"globe thistle\")\n",
    "print(len(flowers))\n",
    "print(flowers[-3:])"
   ]
  },
  {
   "cell_type": "code",
   "execution_count": 58,
   "metadata": {},
   "outputs": [
    {
     "name": "stdout",
     "output_type": "stream",
     "text": [
      "1107\n",
      "191\n",
      "128\n",
      "7\n",
      "158.14285714285714\n"
     ]
    }
   ],
   "source": [
    "hardcover_sales = [139, 128, 172, 139, 191, 168, 170]\n",
    "\n",
    "print(sum(hardcover_sales))\n",
    "print(max(hardcover_sales))\n",
    "print(min(hardcover_sales))\n",
    "print(len(hardcover_sales))\n",
    "print(sum(hardcover_sales) / len(hardcover_sales))\n"
   ]
  }
 ],
 "metadata": {
  "kernelspec": {
   "display_name": "Python 3",
   "language": "python",
   "name": "python3"
  },
  "language_info": {
   "codemirror_mode": {
    "name": "ipython",
    "version": 3
   },
   "file_extension": ".py",
   "mimetype": "text/x-python",
   "name": "python",
   "nbconvert_exporter": "python",
   "pygments_lexer": "ipython3",
   "version": "3.11.4"
  }
 },
 "nbformat": 4,
 "nbformat_minor": 2
}
